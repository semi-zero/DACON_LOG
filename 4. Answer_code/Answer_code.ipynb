{
 "cells": [
  {
   "cell_type": "markdown",
   "metadata": {},
   "source": [
    "## 사용 패키지"
   ]
  },
  {
   "cell_type": "code",
   "execution_count": 1,
   "metadata": {
    "executionInfo": {
     "elapsed": 2839,
     "status": "ok",
     "timestamp": 1616140227422,
     "user": {
      "displayName": "정은일",
      "photoUrl": "",
      "userId": "02252830369813169346"
     },
     "user_tz": -540
    },
    "id": "_uhPU5JfFlrp"
   },
   "outputs": [],
   "source": [
    "import numpy as np\n",
    "import pandas as pd\n",
    "import math\n",
    "import os\n",
    "import gc\n",
    "import matplotlib.pyplot as plt\n",
    "import tensorflow as tf\n",
    "from sklearn.model_selection import train_test_split\n",
    "from tqdm import tqdm"
   ]
  },
  {
   "cell_type": "markdown",
   "metadata": {},
   "source": [
    "## 데이터"
   ]
  },
  {
   "cell_type": "code",
   "execution_count": 2,
   "metadata": {
    "colab": {
     "base_uri": "https://localhost:8080/"
    },
    "executionInfo": {
     "elapsed": 13875,
     "status": "ok",
     "timestamp": 1616140238466,
     "user": {
      "displayName": "정은일",
      "photoUrl": "",
      "userId": "02252830369813169346"
     },
     "user_tz": -540
    },
    "id": "_YTgpPy0F2Ss",
    "outputId": "db85ed6f-36d4-4e9a-c67e-8a9a393fbc92"
   },
   "outputs": [],
   "source": [
    "train = pd.read_csv('공개/train.csv')\n",
    "test = pd.read_csv('공개/test.csv')\n",
    "submission = pd.read_csv('공개/sample_submission.csv')"
   ]
  },
  {
   "cell_type": "code",
   "execution_count": 3,
   "metadata": {
    "colab": {
     "base_uri": "https://localhost:8080/",
     "height": 459
    },
    "executionInfo": {
     "elapsed": 13870,
     "status": "ok",
     "timestamp": 1616140238467,
     "user": {
      "displayName": "정은일",
      "photoUrl": "",
      "userId": "02252830369813169346"
     },
     "user_tz": -540
    },
    "id": "9E3PLTBWF41i",
    "outputId": "e390834e-ff79-4d61-f4fd-485f114c7026"
   },
   "outputs": [
    {
     "data": {
      "text/html": [
       "<div>\n",
       "<style scoped>\n",
       "    .dataframe tbody tr th:only-of-type {\n",
       "        vertical-align: middle;\n",
       "    }\n",
       "\n",
       "    .dataframe tbody tr th {\n",
       "        vertical-align: top;\n",
       "    }\n",
       "\n",
       "    .dataframe thead th {\n",
       "        text-align: right;\n",
       "    }\n",
       "</style>\n",
       "<table border=\"1\" class=\"dataframe\">\n",
       "  <thead>\n",
       "    <tr style=\"text-align: right;\">\n",
       "      <th></th>\n",
       "      <th>id</th>\n",
       "      <th>level</th>\n",
       "      <th>full_log</th>\n",
       "    </tr>\n",
       "  </thead>\n",
       "  <tbody>\n",
       "    <tr>\n",
       "      <th>0</th>\n",
       "      <td>0</td>\n",
       "      <td>0</td>\n",
       "      <td>Sep 24 10:02:22 localhost kibana: {\"type\":\"err...</td>\n",
       "    </tr>\n",
       "    <tr>\n",
       "      <th>1</th>\n",
       "      <td>1</td>\n",
       "      <td>0</td>\n",
       "      <td>Feb  8 16:21:00 localhost logstash: [2021-02-0...</td>\n",
       "    </tr>\n",
       "    <tr>\n",
       "      <th>2</th>\n",
       "      <td>2</td>\n",
       "      <td>0</td>\n",
       "      <td>Jan 13 01:50:40 localhost kibana: {\"type\":\"err...</td>\n",
       "    </tr>\n",
       "    <tr>\n",
       "      <th>3</th>\n",
       "      <td>3</td>\n",
       "      <td>0</td>\n",
       "      <td>Jan  4 10:18:31 localhost kibana: {\"type\":\"err...</td>\n",
       "    </tr>\n",
       "    <tr>\n",
       "      <th>4</th>\n",
       "      <td>4</td>\n",
       "      <td>1</td>\n",
       "      <td>type=SYSCALL msg=audit(1603094402.016:52981): ...</td>\n",
       "    </tr>\n",
       "  </tbody>\n",
       "</table>\n",
       "</div>"
      ],
      "text/plain": [
       "   id  level                                           full_log\n",
       "0   0      0  Sep 24 10:02:22 localhost kibana: {\"type\":\"err...\n",
       "1   1      0  Feb  8 16:21:00 localhost logstash: [2021-02-0...\n",
       "2   2      0  Jan 13 01:50:40 localhost kibana: {\"type\":\"err...\n",
       "3   3      0  Jan  4 10:18:31 localhost kibana: {\"type\":\"err...\n",
       "4   4      1  type=SYSCALL msg=audit(1603094402.016:52981): ..."
      ]
     },
     "execution_count": 3,
     "metadata": {},
     "output_type": "execute_result"
    }
   ],
   "source": [
    "train.head()"
   ]
  },
  {
   "cell_type": "code",
   "execution_count": 4,
   "metadata": {
    "colab": {
     "base_uri": "https://localhost:8080/"
    },
    "executionInfo": {
     "elapsed": 13863,
     "status": "ok",
     "timestamp": 1616140238467,
     "user": {
      "displayName": "정은일",
      "photoUrl": "",
      "userId": "02252830369813169346"
     },
     "user_tz": -540
    },
    "id": "SLxfrV48-U9g",
    "outputId": "c82f553e-15b6-4889-a315-1ac6b0029392"
   },
   "outputs": [
    {
     "data": {
      "text/html": [
       "<div>\n",
       "<style scoped>\n",
       "    .dataframe tbody tr th:only-of-type {\n",
       "        vertical-align: middle;\n",
       "    }\n",
       "\n",
       "    .dataframe tbody tr th {\n",
       "        vertical-align: top;\n",
       "    }\n",
       "\n",
       "    .dataframe thead th {\n",
       "        text-align: right;\n",
       "    }\n",
       "</style>\n",
       "<table border=\"1\" class=\"dataframe\">\n",
       "  <thead>\n",
       "    <tr style=\"text-align: right;\">\n",
       "      <th></th>\n",
       "      <th>id</th>\n",
       "      <th>full_log</th>\n",
       "    </tr>\n",
       "  </thead>\n",
       "  <tbody>\n",
       "    <tr>\n",
       "      <th>0</th>\n",
       "      <td>1000000</td>\n",
       "      <td>Feb  8 15:47:26 localhost kibana: {\"type\":\"err...</td>\n",
       "    </tr>\n",
       "    <tr>\n",
       "      <th>1</th>\n",
       "      <td>1000001</td>\n",
       "      <td>Sep 24 03:46:39 localhost kibana: {\"type\":\"err...</td>\n",
       "    </tr>\n",
       "    <tr>\n",
       "      <th>2</th>\n",
       "      <td>1000002</td>\n",
       "      <td>type=SYSCALL msg=audit(1611888200.428:210563):...</td>\n",
       "    </tr>\n",
       "    <tr>\n",
       "      <th>3</th>\n",
       "      <td>1000003</td>\n",
       "      <td>Jan 18 11:24:06 localhost kibana: {\"type\":\"err...</td>\n",
       "    </tr>\n",
       "    <tr>\n",
       "      <th>4</th>\n",
       "      <td>1000004</td>\n",
       "      <td>type=SYSCALL msg=audit(1603081202.050:46851): ...</td>\n",
       "    </tr>\n",
       "  </tbody>\n",
       "</table>\n",
       "</div>"
      ],
      "text/plain": [
       "        id                                           full_log\n",
       "0  1000000  Feb  8 15:47:26 localhost kibana: {\"type\":\"err...\n",
       "1  1000001  Sep 24 03:46:39 localhost kibana: {\"type\":\"err...\n",
       "2  1000002  type=SYSCALL msg=audit(1611888200.428:210563):...\n",
       "3  1000003  Jan 18 11:24:06 localhost kibana: {\"type\":\"err...\n",
       "4  1000004  type=SYSCALL msg=audit(1603081202.050:46851): ..."
      ]
     },
     "execution_count": 4,
     "metadata": {},
     "output_type": "execute_result"
    }
   ],
   "source": [
    "test.head()"
   ]
  },
  {
   "cell_type": "markdown",
   "metadata": {},
   "source": [
    "## EDA"
   ]
  },
  {
   "cell_type": "code",
   "execution_count": 5,
   "metadata": {},
   "outputs": [
    {
     "data": {
      "text/plain": [
       "<AxesSubplot:>"
      ]
     },
     "execution_count": 5,
     "metadata": {},
     "output_type": "execute_result"
    },
    {
     "data": {
      "image/png": "[encoded data removed]",
      "text/plain": [
       "<Figure size 432x288 with 1 Axes>"
      ]
     },
     "metadata": {
      "needs_background": "light"
     },
     "output_type": "display_data"
    }
   ],
   "source": [
    "train['full_log'].str.split(' ').str.len().hist(bins=50)"
   ]
  },
  {
   "cell_type": "code",
   "execution_count": 6,
   "metadata": {},
   "outputs": [
    {
     "data": {
      "text/html": [
       "<div>\n",
       "<style scoped>\n",
       "    .dataframe tbody tr th:only-of-type {\n",
       "        vertical-align: middle;\n",
       "    }\n",
       "\n",
       "    .dataframe tbody tr th {\n",
       "        vertical-align: top;\n",
       "    }\n",
       "\n",
       "    .dataframe thead th {\n",
       "        text-align: right;\n",
       "    }\n",
       "</style>\n",
       "<table border=\"1\" class=\"dataframe\">\n",
       "  <thead>\n",
       "    <tr style=\"text-align: right;\">\n",
       "      <th></th>\n",
       "      <th>id</th>\n",
       "      <th>level</th>\n",
       "    </tr>\n",
       "  </thead>\n",
       "  <tbody>\n",
       "    <tr>\n",
       "      <th>0</th>\n",
       "      <td>1000000</td>\n",
       "      <td>0</td>\n",
       "    </tr>\n",
       "    <tr>\n",
       "      <th>1</th>\n",
       "      <td>1000001</td>\n",
       "      <td>0</td>\n",
       "    </tr>\n",
       "    <tr>\n",
       "      <th>2</th>\n",
       "      <td>1000002</td>\n",
       "      <td>0</td>\n",
       "    </tr>\n",
       "    <tr>\n",
       "      <th>3</th>\n",
       "      <td>1000003</td>\n",
       "      <td>0</td>\n",
       "    </tr>\n",
       "    <tr>\n",
       "      <th>4</th>\n",
       "      <td>1000004</td>\n",
       "      <td>0</td>\n",
       "    </tr>\n",
       "  </tbody>\n",
       "</table>\n",
       "</div>"
      ],
      "text/plain": [
       "        id  level\n",
       "0  1000000      0\n",
       "1  1000001      0\n",
       "2  1000002      0\n",
       "3  1000003      0\n",
       "4  1000004      0"
      ]
     },
     "execution_count": 6,
     "metadata": {},
     "output_type": "execute_result"
    }
   ],
   "source": [
    "submission.head()"
   ]
  },
  {
   "cell_type": "code",
   "execution_count": 7,
   "metadata": {
    "colab": {
     "base_uri": "https://localhost:8080/"
    },
    "executionInfo": {
     "elapsed": 13858,
     "status": "ok",
     "timestamp": 1616140238468,
     "user": {
      "displayName": "정은일",
      "photoUrl": "",
      "userId": "02252830369813169346"
     },
     "user_tz": -540
    },
    "id": "O4RMU31XF6WB",
    "outputId": "f599ff5e-22d9-462b-b3e3-047fb6ae4b7c"
   },
   "outputs": [
    {
     "data": {
      "text/plain": [
       "0    334065\n",
       "1    132517\n",
       "3      4141\n",
       "5      2219\n",
       "2        12\n",
       "4        10\n",
       "6         8\n",
       "Name: level, dtype: int64"
      ]
     },
     "execution_count": 7,
     "metadata": {},
     "output_type": "execute_result"
    }
   ],
   "source": [
    "train['level'].value_counts()"
   ]
  },
  {
   "cell_type": "code",
   "execution_count": 8,
   "metadata": {
    "executionInfo": {
     "elapsed": 15369,
     "status": "ok",
     "timestamp": 1616140239989,
     "user": {
      "displayName": "정은일",
      "photoUrl": "",
      "userId": "02252830369813169346"
     },
     "user_tz": -540
    },
    "id": "fkCImFtL1u5C"
   },
   "outputs": [],
   "source": [
    "text_train, text_val, label_train, label_val = train_test_split(train['full_log'], train['level'], test_size=0.2, random_state=42)"
   ]
  },
  {
   "cell_type": "code",
   "execution_count": 9,
   "metadata": {},
   "outputs": [
    {
     "data": {
      "text/plain": [
       "0    267279\n",
       "1    105970\n",
       "3      3340\n",
       "5      1766\n",
       "2        10\n",
       "4         7\n",
       "6         5\n",
       "Name: level, dtype: int64"
      ]
     },
     "execution_count": 9,
     "metadata": {},
     "output_type": "execute_result"
    }
   ],
   "source": [
    "label_train.value_counts()"
   ]
  },
  {
   "cell_type": "code",
   "execution_count": 10,
   "metadata": {},
   "outputs": [
    {
     "data": {
      "text/plain": [
       "0    66786\n",
       "1    26547\n",
       "3      801\n",
       "5      453\n",
       "6        3\n",
       "4        3\n",
       "2        2\n",
       "Name: level, dtype: int64"
      ]
     },
     "execution_count": 10,
     "metadata": {},
     "output_type": "execute_result"
    }
   ],
   "source": [
    "label_val.value_counts()"
   ]
  },
  {
   "cell_type": "markdown",
   "metadata": {},
   "source": [
    "## 전처리\n",
    "\n",
    "숫자를 모두 num으로 치환하여 단어 수를 줄였습니다."
   ]
  },
  {
   "cell_type": "code",
   "execution_count": 11,
   "metadata": {
    "executionInfo": {
     "elapsed": 36960,
     "status": "ok",
     "timestamp": 1616140261583,
     "user": {
      "displayName": "정은일",
      "photoUrl": "",
      "userId": "02252830369813169346"
     },
     "user_tz": -540
    },
    "id": "fUY_g0yfGBCV"
   },
   "outputs": [],
   "source": [
    "text_train = text_train.str.replace(r'[0-9]', '<num>')\n",
    "text_val = text_val.str.replace(r'[0-9]', '<num>')"
   ]
  },
  {
   "cell_type": "markdown",
   "metadata": {},
   "source": [
    "## 토큰화"
   ]
  },
  {
   "cell_type": "code",
   "execution_count": 12,
   "metadata": {
    "executionInfo": {
     "elapsed": 162673,
     "status": "ok",
     "timestamp": 1616140387300,
     "user": {
      "displayName": "정은일",
      "photoUrl": "",
      "userId": "02252830369813169346"
     },
     "user_tz": -540
    },
    "id": "Q5Z-5OgrGTM-"
   },
   "outputs": [],
   "source": [
    "tokenizer = tf.keras.preprocessing.text.Tokenizer()\n",
    "tokenizer.fit_on_texts(text_train)\n",
    "top_k = len(tokenizer.word_index)\n",
    "\n",
    "x_train = tokenizer.texts_to_sequences(text_train)\n",
    "x_val = tokenizer.texts_to_sequences(text_val)\n",
    "\n",
    "max_length=100\n",
    "\n",
    "x_train_vector = tf.keras.preprocessing.sequence.pad_sequences(\n",
    "    x_train, maxlen=max_length, padding='post'\n",
    ")\n",
    "\n",
    "x_val_vector = tf.keras.preprocessing.sequence.pad_sequences(\n",
    "    x_val, maxlen=max_length, padding='post'\n",
    ")"
   ]
  },
  {
   "cell_type": "markdown",
   "metadata": {},
   "source": [
    "## 하이퍼파라미터\n",
    "\n",
    "Attention Is All You Need 논문에서 제시한 하이퍼파라미터를 사용하였습니다.\n",
    "\n",
    "RTX 3090 (24g) GPU로 학습하였으며 colab GPU 환경에서 작동 여부는 확인하지 못하였습니다.\n",
    "\n",
    "colab OOM 발생시 튜닝하여 사용 가능합니다.\n",
    "\n",
    "참고 - https://arxiv.org/abs/1706.03762"
   ]
  },
  {
   "cell_type": "code",
   "execution_count": 13,
   "metadata": {
    "executionInfo": {
     "elapsed": 162671,
     "status": "ok",
     "timestamp": 1616140387301,
     "user": {
      "displayName": "정은일",
      "photoUrl": "",
      "userId": "02252830369813169346"
     },
     "user_tz": -540
    },
    "id": "ladnChAlKbua"
   },
   "outputs": [],
   "source": [
    "BATCH_SIZE = 64\n",
    "EPOCHS = 5\n",
    "num_layers = 6\n",
    "dff = 2048\n",
    "num_heads =  8\n",
    "dropout_rate = 0.1\n",
    "d_model = 512\n",
    "vocab_size = top_k+1\n",
    "label_num = 7"
   ]
  },
  {
   "cell_type": "markdown",
   "metadata": {},
   "source": [
    "## 학습 및 검증 데이터셋"
   ]
  },
  {
   "cell_type": "code",
   "execution_count": 14,
   "metadata": {
    "executionInfo": {
     "elapsed": 162668,
     "status": "ok",
     "timestamp": 1616140387302,
     "user": {
      "displayName": "정은일",
      "photoUrl": "",
      "userId": "02252830369813169346"
     },
     "user_tz": -540
    },
    "id": "dPUrrxGWK9e5"
   },
   "outputs": [],
   "source": [
    "def map_func(seq, label):\n",
    "    return seq, label"
   ]
  },
  {
   "cell_type": "code",
   "execution_count": 15,
   "metadata": {
    "executionInfo": {
     "elapsed": 162664,
     "status": "ok",
     "timestamp": 1616140387302,
     "user": {
      "displayName": "정은일",
      "photoUrl": "",
      "userId": "02252830369813169346"
     },
     "user_tz": -540
    },
    "id": "B7fAIcuLJ6cP"
   },
   "outputs": [],
   "source": [
    "train_dataset = tf.data.Dataset.from_tensor_slices((x_train_vector, label_train))\n",
    "train_dataset = train_dataset.map(map_func, num_parallel_calls=tf.data.experimental.AUTOTUNE)\n",
    "train_dataset = train_dataset.batch(BATCH_SIZE)\n",
    "train_dataset = train_dataset.prefetch(buffer_size=tf.data.experimental.AUTOTUNE)\n",
    "\n",
    "val_dataset = tf.data.Dataset.from_tensor_slices((x_val_vector, label_val))\n",
    "val_dataset = val_dataset.map(map_func, num_parallel_calls=tf.data.experimental.AUTOTUNE)\n",
    "val_dataset = val_dataset.batch(BATCH_SIZE)\n",
    "val_dataset = val_dataset.prefetch(buffer_size=tf.data.experimental.AUTOTUNE)"
   ]
  },
  {
   "cell_type": "code",
   "execution_count": 16,
   "metadata": {
    "colab": {
     "base_uri": "https://localhost:8080/"
    },
    "executionInfo": {
     "elapsed": 163277,
     "status": "ok",
     "timestamp": 1616140387919,
     "user": {
      "displayName": "정은일",
      "photoUrl": "",
      "userId": "02252830369813169346"
     },
     "user_tz": -540
    },
    "id": "dDFib6MOKak7",
    "outputId": "6e1ada46-0a52-4fea-a97b-59fadae7f77b"
   },
   "outputs": [
    {
     "data": {
      "text/plain": [
       "(TensorShape([64, 100]),\n",
       " TensorShape([64]),\n",
       " TensorShape([64, 100]),\n",
       " TensorShape([64]))"
      ]
     },
     "execution_count": 16,
     "metadata": {},
     "output_type": "execute_result"
    }
   ],
   "source": [
    "next(iter(train_dataset))[0].shape, next(iter(train_dataset))[1].shape, next(iter(val_dataset))[0].shape, next(iter(val_dataset))[1].shape"
   ]
  },
  {
   "cell_type": "markdown",
   "metadata": {},
   "source": [
    "## 모델 정의\n",
    "\n",
    "Transformer의 Encoder에 출력 layer를 추가하여 분류 모델을 만들었습니다.\n",
    "\n",
    "참고 - https://www.tensorflow.org/tutorials/text/transformer"
   ]
  },
  {
   "cell_type": "code",
   "execution_count": 17,
   "metadata": {
    "executionInfo": {
     "elapsed": 163275,
     "status": "ok",
     "timestamp": 1616140387920,
     "user": {
      "displayName": "정은일",
      "photoUrl": "",
      "userId": "02252830369813169346"
     },
     "user_tz": -540
    },
    "id": "4fnoYmz0LOSt"
   },
   "outputs": [],
   "source": [
    "def get_angles(pos, i, d_model):\n",
    "    angle_rates = 1 / np.power(10000, (2 * (i//2)) / np.float32(d_model))\n",
    "    return pos * angle_rates"
   ]
  },
  {
   "cell_type": "code",
   "execution_count": 18,
   "metadata": {
    "executionInfo": {
     "elapsed": 163272,
     "status": "ok",
     "timestamp": 1616140387920,
     "user": {
      "displayName": "정은일",
      "photoUrl": "",
      "userId": "02252830369813169346"
     },
     "user_tz": -540
    },
    "id": "J1i7Tr0-LSPo"
   },
   "outputs": [],
   "source": [
    "def positional_encoding(position, d_model):\n",
    "    angle_rads = get_angles(np.arange(position)[:, np.newaxis],\n",
    "                            np.arange(d_model)[np.newaxis, :],\n",
    "                            d_model)\n",
    "\n",
    "    # apply sin to even indices in the array; 2i\n",
    "    angle_rads[:, 0::2] = np.sin(angle_rads[:, 0::2])\n",
    "\n",
    "    # apply cos to odd indices in the array; 2i+1\n",
    "    angle_rads[:, 1::2] = np.cos(angle_rads[:, 1::2])\n",
    "\n",
    "    pos_encoding = angle_rads[np.newaxis, ...]\n",
    "\n",
    "    return tf.cast(pos_encoding, dtype=tf.float32)"
   ]
  },
  {
   "cell_type": "code",
   "execution_count": 19,
   "metadata": {
    "executionInfo": {
     "elapsed": 163268,
     "status": "ok",
     "timestamp": 1616140387920,
     "user": {
      "displayName": "정은일",
      "photoUrl": "",
      "userId": "02252830369813169346"
     },
     "user_tz": -540
    },
    "id": "Yyo_FFlILTrN"
   },
   "outputs": [],
   "source": [
    "def create_padding_mask(seq):\n",
    "    seq = tf.cast(tf.math.equal(seq, 0), tf.float32)\n",
    "\n",
    "    # add extra dimensions to add the padding\n",
    "    # to the attention logits.\n",
    "    return seq[:, tf.newaxis, tf.newaxis, :]  # (batch_size, 1, 1, seq_len)"
   ]
  },
  {
   "cell_type": "code",
   "execution_count": 20,
   "metadata": {
    "executionInfo": {
     "elapsed": 163266,
     "status": "ok",
     "timestamp": 1616140387921,
     "user": {
      "displayName": "정은일",
      "photoUrl": "",
      "userId": "02252830369813169346"
     },
     "user_tz": -540
    },
    "id": "KgtgsksZLWS6"
   },
   "outputs": [],
   "source": [
    "def create_look_ahead_mask(size):\n",
    "    mask = 1 - tf.linalg.band_part(tf.ones((size, size)), -1, 0)\n",
    "    return mask  # (seq_len, seq_len)"
   ]
  },
  {
   "cell_type": "code",
   "execution_count": 21,
   "metadata": {
    "executionInfo": {
     "elapsed": 163263,
     "status": "ok",
     "timestamp": 1616140387921,
     "user": {
      "displayName": "정은일",
      "photoUrl": "",
      "userId": "02252830369813169346"
     },
     "user_tz": -540
    },
    "id": "Bu5m48rzLYI4"
   },
   "outputs": [],
   "source": [
    "def scaled_dot_product_attention(q, k, v, mask):\n",
    "    \"\"\"Calculate the attention weights.\n",
    "    q, k, v must have matching leading dimensions.\n",
    "    k, v must have matching penultimate dimension, i.e.: seq_len_k = seq_len_v.\n",
    "    The mask has different shapes depending on its type(padding or look ahead) \n",
    "    but it must be broadcastable for addition.\n",
    "\n",
    "    Args:\n",
    "    q: query shape == (..., seq_len_q, depth)\n",
    "    k: key shape == (..., seq_len_k, depth)\n",
    "    v: value shape == (..., seq_len_v, depth_v)\n",
    "    mask: Float tensor with shape broadcastable \n",
    "          to (..., seq_len_q, seq_len_k). Defaults to None.\n",
    "\n",
    "    Returns:\n",
    "    output, attention_weights\n",
    "    \"\"\"\n",
    "\n",
    "    matmul_qk = tf.matmul(q, k, transpose_b=True)  # (..., seq_len_q, seq_len_k)\n",
    "\n",
    "    # scale matmul_qk\n",
    "    dk = tf.cast(tf.shape(k)[-1], tf.float32)\n",
    "    scaled_attention_logits = matmul_qk / tf.math.sqrt(dk)\n",
    "\n",
    "    # add the mask to the scaled tensor.\n",
    "    if mask is not None:\n",
    "        scaled_attention_logits += (mask * -1e9)  \n",
    "\n",
    "    # softmax is normalized on the last axis (seq_len_k) so that the scores\n",
    "    # add up to 1.\n",
    "    attention_weights = tf.nn.softmax(scaled_attention_logits, axis=-1)  # (..., seq_len_q, seq_len_k)\n",
    "\n",
    "    output = tf.matmul(attention_weights, v)  # (..., seq_len_q, depth_v)\n",
    "\n",
    "    return output, attention_weights"
   ]
  },
  {
   "cell_type": "code",
   "execution_count": 22,
   "metadata": {
    "executionInfo": {
     "elapsed": 163260,
     "status": "ok",
     "timestamp": 1616140387921,
     "user": {
      "displayName": "정은일",
      "photoUrl": "",
      "userId": "02252830369813169346"
     },
     "user_tz": -540
    },
    "id": "416-o-IBLbHL"
   },
   "outputs": [],
   "source": [
    "def print_out(q, k, v):\n",
    "    temp_out, temp_attn = scaled_dot_product_attention(q, k, v, None)\n",
    "    print ('Attention weights are:')\n",
    "    print (temp_attn)\n",
    "    print ('Output is:')\n",
    "    print (temp_out)"
   ]
  },
  {
   "cell_type": "code",
   "execution_count": 23,
   "metadata": {
    "executionInfo": {
     "elapsed": 163258,
     "status": "ok",
     "timestamp": 1616140387922,
     "user": {
      "displayName": "정은일",
      "photoUrl": "",
      "userId": "02252830369813169346"
     },
     "user_tz": -540
    },
    "id": "byNWT8oVLcxK"
   },
   "outputs": [],
   "source": [
    "class MultiHeadAttention(tf.keras.layers.Layer):\n",
    "    def __init__(self, d_model, num_heads):\n",
    "        super(MultiHeadAttention, self).__init__()\n",
    "        self.num_heads = num_heads\n",
    "        self.d_model = d_model\n",
    "\n",
    "        assert d_model % self.num_heads == 0\n",
    "\n",
    "        self.depth = d_model // self.num_heads\n",
    "\n",
    "        self.wq = tf.keras.layers.Dense(d_model)\n",
    "        self.wk = tf.keras.layers.Dense(d_model)\n",
    "        self.wv = tf.keras.layers.Dense(d_model)\n",
    "\n",
    "        self.dense = tf.keras.layers.Dense(d_model)\n",
    "\n",
    "    def split_heads(self, x, batch_size):\n",
    "        \"\"\"Split the last dimension into (num_heads, depth).\n",
    "        Transpose the result such that the shape is (batch_size, num_heads, seq_len, depth)\n",
    "        \"\"\"\n",
    "        x = tf.reshape(x, (batch_size, -1, self.num_heads, self.depth))\n",
    "        return tf.transpose(x, perm=[0, 2, 1, 3])\n",
    "\n",
    "    def call(self, v, k, q, mask):\n",
    "        batch_size = tf.shape(q)[0]\n",
    "\n",
    "        q = self.wq(q)  # (batch_size, seq_len, d_model)\n",
    "        k = self.wk(k)  # (batch_size, seq_len, d_model)\n",
    "        v = self.wv(v)  # (batch_size, seq_len, d_model)\n",
    "\n",
    "        q = self.split_heads(q, batch_size)  # (batch_size, num_heads, seq_len_q, depth)\n",
    "        k = self.split_heads(k, batch_size)  # (batch_size, num_heads, seq_len_k, depth)\n",
    "        v = self.split_heads(v, batch_size)  # (batch_size, num_heads, seq_len_v, depth)\n",
    "\n",
    "        # scaled_attention.shape == (batch_size, num_heads, seq_len_q, depth)\n",
    "        # attention_weights.shape == (batch_size, num_heads, seq_len_q, seq_len_k)\n",
    "        scaled_attention, attention_weights = scaled_dot_product_attention(q, k, v, mask)\n",
    "\n",
    "        scaled_attention = tf.transpose(scaled_attention, perm=[0, 2, 1, 3])  # (batch_size, seq_len_q, num_heads, depth)\n",
    "\n",
    "        concat_attention = tf.reshape(scaled_attention, (batch_size, -1, self.d_model))  # (batch_size, seq_len_q, d_model)\n",
    "\n",
    "        output = self.dense(concat_attention)  # (batch_size, seq_len_q, d_model)\n",
    "\n",
    "        return output, attention_weights"
   ]
  },
  {
   "cell_type": "code",
   "execution_count": 24,
   "metadata": {
    "executionInfo": {
     "elapsed": 163252,
     "status": "ok",
     "timestamp": 1616140387922,
     "user": {
      "displayName": "정은일",
      "photoUrl": "",
      "userId": "02252830369813169346"
     },
     "user_tz": -540
    },
    "id": "HJjOrPZPLfiK"
   },
   "outputs": [],
   "source": [
    "def point_wise_feed_forward_network(d_model, dff):\n",
    "    return tf.keras.Sequential([\n",
    "        tf.keras.layers.Dense(dff, activation='relu'),  # (batch_size, seq_len, dff)\n",
    "        tf.keras.layers.Dense(d_model)  # (batch_size, seq_len, d_model)\n",
    "    ])"
   ]
  },
  {
   "cell_type": "code",
   "execution_count": 25,
   "metadata": {
    "executionInfo": {
     "elapsed": 163248,
     "status": "ok",
     "timestamp": 1616140387922,
     "user": {
      "displayName": "정은일",
      "photoUrl": "",
      "userId": "02252830369813169346"
     },
     "user_tz": -540
    },
    "id": "QLdiNGDDLir1"
   },
   "outputs": [],
   "source": [
    "class EncoderLayer(tf.keras.layers.Layer):\n",
    "    def __init__(self, d_model, num_heads, dff, rate=0.1):\n",
    "        super(EncoderLayer, self).__init__()\n",
    "\n",
    "        self.mha = MultiHeadAttention(d_model, num_heads)\n",
    "        self.ffn = point_wise_feed_forward_network(d_model, dff)\n",
    "\n",
    "        self.layernorm1 = tf.keras.layers.LayerNormalization(epsilon=1e-6)\n",
    "        self.layernorm2 = tf.keras.layers.LayerNormalization(epsilon=1e-6)\n",
    "\n",
    "        self.dropout1 = tf.keras.layers.Dropout(rate)\n",
    "        self.dropout2 = tf.keras.layers.Dropout(rate)\n",
    "\n",
    "    def call(self, x, training, mask):\n",
    "\n",
    "        attn_output, attention_weight = self.mha(x, x, x, mask)  # (batch_size, input_seq_len, d_model)\n",
    "        attn_output = self.dropout1(attn_output, training=training)\n",
    "        out1 = self.layernorm1(x + attn_output)  # (batch_size, input_seq_len, d_model)\n",
    "\n",
    "        ffn_output = self.ffn(out1)  # (batch_size, input_seq_len, d_model)\n",
    "        ffn_output = self.dropout2(ffn_output, training=training)\n",
    "        out2 = self.layernorm2(out1 + ffn_output)  # (batch_size, input_seq_len, d_model)\n",
    "\n",
    "        return out2, attention_weight"
   ]
  },
  {
   "cell_type": "code",
   "execution_count": 26,
   "metadata": {
    "executionInfo": {
     "elapsed": 163245,
     "status": "ok",
     "timestamp": 1616140387923,
     "user": {
      "displayName": "정은일",
      "photoUrl": "",
      "userId": "02252830369813169346"
     },
     "user_tz": -540
    },
    "id": "RXiUwbUJLkuc"
   },
   "outputs": [],
   "source": [
    "class Encoder(tf.keras.layers.Layer):\n",
    "    def __init__(self, num_layers, d_model, num_heads, dff, input_vocab_size,\n",
    "               maximum_position_encoding, rate=0.1):\n",
    "        super(Encoder, self).__init__()\n",
    "\n",
    "        self.d_model = d_model\n",
    "        self.num_layers = num_layers\n",
    "\n",
    "        self.embedding = tf.keras.layers.Embedding(input_vocab_size, d_model)\n",
    "        self.pos_encoding = positional_encoding(maximum_position_encoding, \n",
    "                                                self.d_model)\n",
    "\n",
    "\n",
    "        self.enc_layers = [EncoderLayer(d_model, num_heads, dff, rate) \n",
    "                           for _ in range(num_layers)]\n",
    "\n",
    "        self.dropout = tf.keras.layers.Dropout(rate)\n",
    "\n",
    "        self.final_layer = tf.keras.layers.Dense(label_num)\n",
    "\n",
    "    def call(self, x, training, mask):\n",
    "    \n",
    "        seq_len = tf.shape(x)[1]\n",
    "\n",
    "        # adding embedding and position encoding.\n",
    "        x = self.embedding(x)  # (batch_size, input_seq_len, d_model)\n",
    "        x *= tf.math.sqrt(tf.cast(self.d_model, tf.float32))\n",
    "        x += self.pos_encoding[:, :seq_len, :]\n",
    "\n",
    "        x = self.dropout(x, training=training)\n",
    "\n",
    "        for i in range(self.num_layers):\n",
    "            x, attention_weight = self.enc_layers[i](x, training, mask)\n",
    "\n",
    "        x = tf.keras.layers.Flatten()(x)\n",
    "\n",
    "        x = self.final_layer(x)\n",
    "\n",
    "        return x, attention_weight  # (batch_size, label_num)"
   ]
  },
  {
   "cell_type": "markdown",
   "metadata": {},
   "source": [
    "## 학습률 스케쥴러\n",
    "\n",
    "CosineAnealing을 스케쥴러로 사용하였으나 1cycle만 학습하여 학습 과정에서 학습률 증가 구간은 없습니다."
   ]
  },
  {
   "cell_type": "code",
   "execution_count": 27,
   "metadata": {},
   "outputs": [],
   "source": [
    "class CosineAnnealingLearningRateSchedule(tf.keras.optimizers.schedules.LearningRateSchedule):\n",
    "    def __init__(self, t_batch, lr_max, lr_min, n_cycle):\n",
    "        self.t_batch = t_batch\n",
    "        self.lr_max = lr_max\n",
    "        self.lr_min = lr_min\n",
    "        self.n_cycle = n_cycle\n",
    "    \n",
    "    def __call__(self, step):\n",
    "        cos_inner = (math.pi * (step % (self.t_batch*self.n_cycle))) / (self.t_batch*self.n_cycle)\n",
    "        \n",
    "        return (self.lr_max - self.lr_min)/2 * (tf.math.cos(cos_inner) + 1) + self.lr_min"
   ]
  },
  {
   "cell_type": "code",
   "execution_count": 28,
   "metadata": {},
   "outputs": [],
   "source": [
    "max_rate = 1e-5\n",
    "min_rate = 1e-6\n",
    "cycle = 5"
   ]
  },
  {
   "cell_type": "code",
   "execution_count": 29,
   "metadata": {},
   "outputs": [
    {
     "data": {
      "text/plain": [
       "Text(0.5, 0, 'Train Step')"
      ]
     },
     "execution_count": 29,
     "metadata": {},
     "output_type": "execute_result"
    },
    {
     "data": {
      "image/png": "[encoded data removed]",
      "text/plain": [
       "<Figure size 432x288 with 1 Axes>"
      ]
     },
     "metadata": {
      "needs_background": "light"
     },
     "output_type": "display_data"
    }
   ],
   "source": [
    "temp_learning_rate_schedule = CosineAnnealingLearningRateSchedule(len(x_train_vector)//BATCH_SIZE+1, max_rate, min_rate, cycle)\n",
    "\n",
    "plt.plot(temp_learning_rate_schedule(tf.range(80000, dtype=tf.float32)))\n",
    "plt.ylabel(\"Learning Rate\")\n",
    "plt.xlabel(\"Train Step\")"
   ]
  },
  {
   "cell_type": "markdown",
   "metadata": {},
   "source": [
    "## 샘플 모델\n",
    "\n",
    "샘플 모델을 만들어 입/출력 형태를 확인합니다."
   ]
  },
  {
   "cell_type": "code",
   "execution_count": 30,
   "metadata": {
    "colab": {
     "base_uri": "https://localhost:8080/"
    },
    "executionInfo": {
     "elapsed": 164270,
     "status": "ok",
     "timestamp": 1616140388952,
     "user": {
      "displayName": "정은일",
      "photoUrl": "",
      "userId": "02252830369813169346"
     },
     "user_tz": -540
    },
    "id": "MyBF971ALn_s",
    "outputId": "77ca8913-43e7-4bbf-bc77-915867315e3d"
   },
   "outputs": [
    {
     "name": "stdout",
     "output_type": "stream",
     "text": [
      "(64, 7)\n"
     ]
    }
   ],
   "source": [
    "sample_encoder = Encoder(\n",
    "    num_layers=num_layers, d_model=d_model, num_heads=num_heads, dff=dff,\n",
    "    input_vocab_size=vocab_size, maximum_position_encoding=max_length, rate=dropout_rate\n",
    ")\n",
    "\n",
    "temp_input = next(iter(train_dataset))[0]\n",
    "\n",
    "sample_encoder_output, attention_weight = sample_encoder(temp_input, training=False, mask=None)\n",
    "\n",
    "print (sample_encoder_output.shape)"
   ]
  },
  {
   "cell_type": "markdown",
   "metadata": {},
   "source": [
    "## 모델 및 loss function"
   ]
  },
  {
   "cell_type": "code",
   "execution_count": 31,
   "metadata": {
    "executionInfo": {
     "elapsed": 164267,
     "status": "ok",
     "timestamp": 1616140388953,
     "user": {
      "displayName": "정은일",
      "photoUrl": "",
      "userId": "02252830369813169346"
     },
     "user_tz": -540
    },
    "id": "ule6_HAdLrv7"
   },
   "outputs": [],
   "source": [
    "model = Encoder(\n",
    "    num_layers=num_layers, d_model=d_model, num_heads=num_heads, dff=dff,\n",
    "    input_vocab_size=vocab_size, maximum_position_encoding=max_length, rate=dropout_rate\n",
    ")\n",
    "\n",
    "learning_rate = CosineAnnealingLearningRateSchedule(len(x_train_vector)//BATCH_SIZE+1, max_rate, min_rate, cycle)\n",
    "optimizer = tf.keras.optimizers.Adam(learning_rate)\n",
    "\n",
    "loss_object = tf.keras.losses.SparseCategoricalCrossentropy(from_logits=True, reduction='none')"
   ]
  },
  {
   "cell_type": "code",
   "execution_count": 32,
   "metadata": {
    "executionInfo": {
     "elapsed": 164264,
     "status": "ok",
     "timestamp": 1616140388953,
     "user": {
      "displayName": "정은일",
      "photoUrl": "",
      "userId": "02252830369813169346"
     },
     "user_tz": -540
    },
    "id": "QAp7XKPrNpgj"
   },
   "outputs": [],
   "source": [
    "@tf.function\n",
    "def loss_function(real, pred):\n",
    "    loss_ = loss_object(real, pred)\n",
    "\n",
    "    return loss_"
   ]
  },
  {
   "cell_type": "markdown",
   "metadata": {},
   "source": [
    "## 체크포인트 지정"
   ]
  },
  {
   "cell_type": "code",
   "execution_count": 33,
   "metadata": {
    "executionInfo": {
     "elapsed": 164259,
     "status": "ok",
     "timestamp": 1616140388955,
     "user": {
      "displayName": "정은일",
      "photoUrl": "",
      "userId": "02252830369813169346"
     },
     "user_tz": -540
    },
    "id": "4CmiwhKuOEP9"
   },
   "outputs": [],
   "source": [
    "checkpoint_path = './checkpoint/'\n",
    "os.makedirs(checkpoint_path, exist_ok=True)\n",
    "ckpt = tf.train.Checkpoint(\n",
    "    captioning_transformer=model, \n",
    "    optimizer=optimizer\n",
    ")\n",
    "ckpt_manager = tf.train.CheckpointManager(ckpt, checkpoint_path, max_to_keep=25)"
   ]
  },
  {
   "cell_type": "code",
   "execution_count": 34,
   "metadata": {
    "executionInfo": {
     "elapsed": 164256,
     "status": "ok",
     "timestamp": 1616140388955,
     "user": {
      "displayName": "정은일",
      "photoUrl": "",
      "userId": "02252830369813169346"
     },
     "user_tz": -540
    },
    "id": "xRpA_VBAOJwl"
   },
   "outputs": [],
   "source": [
    "start_epoch = 0\n",
    "if ckpt_manager.latest_checkpoint:\n",
    "    start_epoch = int(ckpt_manager.latest_checkpoint.split('-')[-1])\n",
    "    ckpt.restore(ckpt_manager.latest_checkpoint)\n",
    "    print(ckpt_manager.latest_checkpoint)"
   ]
  },
  {
   "cell_type": "markdown",
   "metadata": {},
   "source": [
    "## 학습 정의"
   ]
  },
  {
   "cell_type": "code",
   "execution_count": 35,
   "metadata": {
    "executionInfo": {
     "elapsed": 164254,
     "status": "ok",
     "timestamp": 1616140388956,
     "user": {
      "displayName": "정은일",
      "photoUrl": "",
      "userId": "02252830369813169346"
     },
     "user_tz": -540
    },
    "id": "LVknMX5SOT5O"
   },
   "outputs": [],
   "source": [
    "@tf.function()\n",
    "def train_step(seq, label, training=True):\n",
    "    with tf.GradientTape() as tape:\n",
    "        predictions,_ = model(seq, training=training, mask=None)\n",
    "        loss = loss_object(label, predictions)\n",
    "\n",
    "    if training==True:\n",
    "        gradients = tape.gradient(loss, model.trainable_variables)\n",
    "        optimizer.apply_gradients(zip(gradients, model.trainable_variables))\n",
    "  \n",
    "    return loss, predictions"
   ]
  },
  {
   "cell_type": "code",
   "execution_count": 36,
   "metadata": {
    "colab": {
     "base_uri": "https://localhost:8080/"
    },
    "executionInfo": {
     "elapsed": 165471,
     "status": "ok",
     "timestamp": 1616140390176,
     "user": {
      "displayName": "정은일",
      "photoUrl": "",
      "userId": "02252830369813169346"
     },
     "user_tz": -540
    },
    "id": "nxRBvTvCPKlY",
    "outputId": "300e96fa-b58a-4fce-a93c-ee67b08d53d4"
   },
   "outputs": [
    {
     "data": {
      "text/plain": [
       "520"
      ]
     },
     "execution_count": 36,
     "metadata": {},
     "output_type": "execute_result"
    }
   ],
   "source": [
    "gc.collect()"
   ]
  },
  {
   "cell_type": "markdown",
   "metadata": {},
   "source": [
    "## 학습"
   ]
  },
  {
   "cell_type": "code",
   "execution_count": 37,
   "metadata": {
    "executionInfo": {
     "elapsed": 165469,
     "status": "ok",
     "timestamp": 1616140390177,
     "user": {
      "displayName": "정은일",
      "photoUrl": "",
      "userId": "02252830369813169346"
     },
     "user_tz": -540
    },
    "id": "bzLassWRmEEU"
   },
   "outputs": [],
   "source": [
    "loss_plot, val_loss_plot = [], []"
   ]
  },
  {
   "cell_type": "code",
   "execution_count": 38,
   "metadata": {
    "colab": {
     "base_uri": "https://localhost:8080/"
    },
    "executionInfo": {
     "elapsed": 3342029,
     "status": "ok",
     "timestamp": 1616143566740,
     "user": {
      "displayName": "정은일",
      "photoUrl": "",
      "userId": "02252830369813169346"
     },
     "user_tz": -540
    },
    "id": "MfqBDa0PPQPm",
    "outputId": "a3adcb59-90a4-4231-e833-ad2ed9593d46"
   },
   "outputs": [
    {
     "name": "stderr",
     "output_type": "stream",
     "text": [
      "5913it [07:51, 12.53it/s, Epoch=1, Loss=0.000001, Total Loss=0.017235]\n",
      "1479it [00:35, 42.25it/s, Epoch=1, Val Loss=0.000000, Val Total_Loss=0.009620]\n",
      "5913it [07:41, 12.81it/s, Epoch=2, Loss=0.000005, Total Loss=0.006542]\n",
      "1479it [00:34, 43.31it/s, Epoch=2, Val Loss=0.000002, Val Total_Loss=0.007034]\n",
      "5913it [07:41, 12.80it/s, Epoch=3, Loss=0.000006, Total Loss=0.005249]\n",
      "1479it [00:34, 43.43it/s, Epoch=3, Val Loss=0.000002, Val Total_Loss=0.006495]\n",
      "5913it [07:41, 12.81it/s, Epoch=4, Loss=0.000003, Total Loss=0.004598]\n",
      "1479it [00:34, 43.31it/s, Epoch=4, Val Loss=0.000001, Val Total_Loss=0.005028]\n",
      "5913it [07:42, 12.79it/s, Epoch=5, Loss=0.000001, Total Loss=0.004312]\n",
      "1479it [00:34, 43.31it/s, Epoch=5, Val Loss=0.000001, Val Total_Loss=0.004778]\n"
     ]
    }
   ],
   "source": [
    "for epoch in range(start_epoch, EPOCHS):\n",
    "    total_loss, total_val_loss = 0, 0\n",
    "\n",
    "    tqdm_dataset = tqdm(enumerate(train_dataset))\n",
    "\n",
    "    for (batch, (seq, label)) in tqdm_dataset:\n",
    "        batch_loss, pred_list = train_step(seq, label, training=True)\n",
    "        total_loss += batch_loss.numpy().mean()\n",
    "\n",
    "        tqdm_dataset.set_postfix({\n",
    "            'Epoch': epoch + 1,\n",
    "            'Loss': '{:06f}'.format(batch_loss.numpy().mean()),\n",
    "            'Total Loss' : '{:06f}'.format(total_loss/(batch+1))\n",
    "        })\n",
    "        \n",
    "    loss_plot.append(total_loss / (batch+1))\n",
    "\n",
    "    tqdm_dataset_val = tqdm(enumerate(val_dataset))\n",
    "\n",
    "    for (batch, (seq, label)) in tqdm_dataset_val:\n",
    "\n",
    "        batch_val_loss, pred_list = train_step(seq, label, training=False)\n",
    "        total_val_loss += batch_val_loss.numpy().mean()\n",
    "\n",
    "        tqdm_dataset_val.set_postfix({\n",
    "            'Epoch': epoch + 1,\n",
    "            'Val Loss': '{:06f}'.format(batch_val_loss.numpy().mean()),\n",
    "            'Val Total_Loss' : '{:06f}'.format(total_val_loss/(batch+1))\n",
    "        })\n",
    "\n",
    "    val_loss_plot.append(total_val_loss / (batch+1))\n",
    "\n",
    "    if np.min(val_loss_plot) == val_loss_plot[-1]:\n",
    "        ckpt_manager.save()"
   ]
  },
  {
   "cell_type": "markdown",
   "metadata": {},
   "source": [
    "## 학습 결과"
   ]
  },
  {
   "cell_type": "code",
   "execution_count": 39,
   "metadata": {
    "colab": {
     "base_uri": "https://localhost:8080/",
     "height": 265
    },
    "executionInfo": {
     "elapsed": 3342028,
     "status": "ok",
     "timestamp": 1616143566742,
     "user": {
      "displayName": "정은일",
      "photoUrl": "",
      "userId": "02252830369813169346"
     },
     "user_tz": -540
    },
    "id": "to5YLVMcZrby",
    "outputId": "6fdec59a-cb54-469d-83ed-b180cda9d127"
   },
   "outputs": [
    {
     "data": {
      "image/png": "[encoded data removed]",
      "text/plain": [
       "<Figure size 432x288 with 1 Axes>"
      ]
     },
     "metadata": {
      "needs_background": "light"
     },
     "output_type": "display_data"
    }
   ],
   "source": [
    "plt.plot(loss_plot)\n",
    "plt.plot(val_loss_plot)\n",
    "plt.show()"
   ]
  },
  {
   "cell_type": "markdown",
   "metadata": {},
   "source": [
    "## 검증 결과가 가장 좋았던 체크포인트로 복원"
   ]
  },
  {
   "cell_type": "code",
   "execution_count": 40,
   "metadata": {
    "colab": {
     "base_uri": "https://localhost:8080/"
    },
    "executionInfo": {
     "elapsed": 3342026,
     "status": "ok",
     "timestamp": 1616143566743,
     "user": {
      "displayName": "정은일",
      "photoUrl": "",
      "userId": "02252830369813169346"
     },
     "user_tz": -540
    },
    "id": "RcoLJjyAPD1i",
    "outputId": "5e25d12c-93fa-4e9c-8317-cd8e0d3d40a8"
   },
   "outputs": [
    {
     "data": {
      "text/plain": [
       "<tensorflow.python.training.tracking.util.CheckpointLoadStatus at 0x7f38d7b32ac0>"
      ]
     },
     "execution_count": 40,
     "metadata": {},
     "output_type": "execute_result"
    }
   ],
   "source": [
    "ckpt.restore(ckpt_manager.latest_checkpoint)"
   ]
  },
  {
   "cell_type": "code",
   "execution_count": 41,
   "metadata": {},
   "outputs": [
    {
     "data": {
      "text/plain": [
       "'./checkpoint/ckpt-5'"
      ]
     },
     "execution_count": 41,
     "metadata": {},
     "output_type": "execute_result"
    }
   ],
   "source": [
    "ckpt_manager.latest_checkpoint"
   ]
  },
  {
   "cell_type": "markdown",
   "metadata": {},
   "source": [
    "## 추론 정의"
   ]
  },
  {
   "cell_type": "code",
   "execution_count": 42,
   "metadata": {
    "executionInfo": {
     "elapsed": 3342024,
     "status": "ok",
     "timestamp": 1616143566744,
     "user": {
      "displayName": "정은일",
      "photoUrl": "",
      "userId": "02252830369813169346"
     },
     "user_tz": -540
    },
    "id": "lG7GeX-yPlUI"
   },
   "outputs": [],
   "source": [
    "@tf.function\n",
    "def predict(seq):\n",
    "    predictions, attention_weight = model(seq, training=False, mask=None)\n",
    "    predictions = tf.nn.softmax(predictions, axis=1)\n",
    "    predicted_id = tf.cast(tf.argmax(predictions, axis=-1), tf.int32)\n",
    "    \n",
    "    return predicted_id, predictions, attention_weight"
   ]
  },
  {
   "cell_type": "markdown",
   "metadata": {},
   "source": [
    "## 검증셋 추론"
   ]
  },
  {
   "cell_type": "code",
   "execution_count": 43,
   "metadata": {
    "colab": {
     "base_uri": "https://localhost:8080/"
    },
    "executionInfo": {
     "elapsed": 3348416,
     "status": "ok",
     "timestamp": 1616143573140,
     "user": {
      "displayName": "정은일",
      "photoUrl": "",
      "userId": "02252830369813169346"
     },
     "user_tz": -540
    },
    "id": "1siuQwLtzECq",
    "outputId": "7352fe34-6ac5-4cda-bda7-675f336aa82b"
   },
   "outputs": [
    {
     "name": "stderr",
     "output_type": "stream",
     "text": [
      "100%|██████████| 1479/1479 [00:34<00:00, 42.44it/s]\n"
     ]
    }
   ],
   "source": [
    "preds = None\n",
    "for seq, label in tqdm(val_dataset):\n",
    "    if preds is None:\n",
    "        preds, probas, _ = predict(seq)\n",
    "        true = label\n",
    "    else:\n",
    "        pred, proba, _ = predict(seq)\n",
    "        preds = tf.concat([preds, pred], axis=-1)\n",
    "        probas = tf.concat([probas, proba], axis=0)\n",
    "        true = tf.concat([true, label], axis=-1)"
   ]
  },
  {
   "cell_type": "markdown",
   "metadata": {},
   "source": [
    "## 검증셋 Confusion Matrix"
   ]
  },
  {
   "cell_type": "code",
   "execution_count": 44,
   "metadata": {
    "colab": {
     "base_uri": "https://localhost:8080/",
     "height": 410
    },
    "executionInfo": {
     "elapsed": 3348417,
     "status": "ok",
     "timestamp": 1616143573144,
     "user": {
      "displayName": "정은일",
      "photoUrl": "",
      "userId": "02252830369813169346"
     },
     "user_tz": -540
    },
    "id": "0Tqq7rGm21Xp",
    "outputId": "641aa0b4-5474-47ff-c3b2-4ecc94fc98f3"
   },
   "outputs": [
    {
     "data": {
      "text/html": [
       "<div>\n",
       "<style scoped>\n",
       "    .dataframe tbody tr th:only-of-type {\n",
       "        vertical-align: middle;\n",
       "    }\n",
       "\n",
       "    .dataframe tbody tr th {\n",
       "        vertical-align: top;\n",
       "    }\n",
       "\n",
       "    .dataframe thead th {\n",
       "        text-align: right;\n",
       "    }\n",
       "</style>\n",
       "<table border=\"1\" class=\"dataframe\">\n",
       "  <thead>\n",
       "    <tr style=\"text-align: right;\">\n",
       "      <th>pred</th>\n",
       "      <th>0</th>\n",
       "      <th>1</th>\n",
       "      <th>2</th>\n",
       "      <th>3</th>\n",
       "      <th>4</th>\n",
       "      <th>5</th>\n",
       "    </tr>\n",
       "    <tr>\n",
       "      <th>real</th>\n",
       "      <th></th>\n",
       "      <th></th>\n",
       "      <th></th>\n",
       "      <th></th>\n",
       "      <th></th>\n",
       "      <th></th>\n",
       "    </tr>\n",
       "  </thead>\n",
       "  <tbody>\n",
       "    <tr>\n",
       "      <th>0</th>\n",
       "      <td>66785</td>\n",
       "      <td>0</td>\n",
       "      <td>0</td>\n",
       "      <td>1</td>\n",
       "      <td>0</td>\n",
       "      <td>0</td>\n",
       "    </tr>\n",
       "    <tr>\n",
       "      <th>1</th>\n",
       "      <td>140</td>\n",
       "      <td>26407</td>\n",
       "      <td>0</td>\n",
       "      <td>0</td>\n",
       "      <td>0</td>\n",
       "      <td>0</td>\n",
       "    </tr>\n",
       "    <tr>\n",
       "      <th>2</th>\n",
       "      <td>0</td>\n",
       "      <td>0</td>\n",
       "      <td>2</td>\n",
       "      <td>0</td>\n",
       "      <td>0</td>\n",
       "      <td>0</td>\n",
       "    </tr>\n",
       "    <tr>\n",
       "      <th>3</th>\n",
       "      <td>2</td>\n",
       "      <td>0</td>\n",
       "      <td>0</td>\n",
       "      <td>798</td>\n",
       "      <td>0</td>\n",
       "      <td>1</td>\n",
       "    </tr>\n",
       "    <tr>\n",
       "      <th>4</th>\n",
       "      <td>0</td>\n",
       "      <td>0</td>\n",
       "      <td>0</td>\n",
       "      <td>0</td>\n",
       "      <td>3</td>\n",
       "      <td>0</td>\n",
       "    </tr>\n",
       "    <tr>\n",
       "      <th>5</th>\n",
       "      <td>15</td>\n",
       "      <td>0</td>\n",
       "      <td>0</td>\n",
       "      <td>10</td>\n",
       "      <td>0</td>\n",
       "      <td>428</td>\n",
       "    </tr>\n",
       "    <tr>\n",
       "      <th>6</th>\n",
       "      <td>1</td>\n",
       "      <td>0</td>\n",
       "      <td>0</td>\n",
       "      <td>2</td>\n",
       "      <td>0</td>\n",
       "      <td>0</td>\n",
       "    </tr>\n",
       "  </tbody>\n",
       "</table>\n",
       "</div>"
      ],
      "text/plain": [
       "pred      0      1  2    3  4    5\n",
       "real                              \n",
       "0     66785      0  0    1  0    0\n",
       "1       140  26407  0    0  0    0\n",
       "2         0      0  2    0  0    0\n",
       "3         2      0  0  798  0    1\n",
       "4         0      0  0    0  3    0\n",
       "5        15      0  0   10  0  428\n",
       "6         1      0  0    2  0    0"
      ]
     },
     "execution_count": 44,
     "metadata": {},
     "output_type": "execute_result"
    }
   ],
   "source": [
    "ct = pd.crosstab(true.numpy(), preds.numpy(), rownames=['real'], colnames=['pred'])\n",
    "ct"
   ]
  },
  {
   "cell_type": "markdown",
   "metadata": {},
   "source": [
    "## level 7 분류\n",
    "\n",
    "level 7을 찾기위해 Threshold를 지정하여 검증셋 추론 결과 변화 확인합니다."
   ]
  },
  {
   "cell_type": "code",
   "execution_count": 45,
   "metadata": {},
   "outputs": [
    {
     "name": "stdout",
     "output_type": "stream",
     "text": [
      "495\n"
     ]
    },
    {
     "data": {
      "text/html": [
       "<div>\n",
       "<style scoped>\n",
       "    .dataframe tbody tr th:only-of-type {\n",
       "        vertical-align: middle;\n",
       "    }\n",
       "\n",
       "    .dataframe tbody tr th {\n",
       "        vertical-align: top;\n",
       "    }\n",
       "\n",
       "    .dataframe thead th {\n",
       "        text-align: right;\n",
       "    }\n",
       "</style>\n",
       "<table border=\"1\" class=\"dataframe\">\n",
       "  <thead>\n",
       "    <tr style=\"text-align: right;\">\n",
       "      <th>pred</th>\n",
       "      <th>0</th>\n",
       "      <th>1</th>\n",
       "      <th>2</th>\n",
       "      <th>3</th>\n",
       "      <th>4</th>\n",
       "      <th>5</th>\n",
       "      <th>7</th>\n",
       "    </tr>\n",
       "    <tr>\n",
       "      <th>real</th>\n",
       "      <th></th>\n",
       "      <th></th>\n",
       "      <th></th>\n",
       "      <th></th>\n",
       "      <th></th>\n",
       "      <th></th>\n",
       "      <th></th>\n",
       "    </tr>\n",
       "  </thead>\n",
       "  <tbody>\n",
       "    <tr>\n",
       "      <th>0</th>\n",
       "      <td>66488</td>\n",
       "      <td>0</td>\n",
       "      <td>0</td>\n",
       "      <td>0</td>\n",
       "      <td>0</td>\n",
       "      <td>0</td>\n",
       "      <td>298</td>\n",
       "    </tr>\n",
       "    <tr>\n",
       "      <th>1</th>\n",
       "      <td>3</td>\n",
       "      <td>26405</td>\n",
       "      <td>0</td>\n",
       "      <td>0</td>\n",
       "      <td>0</td>\n",
       "      <td>0</td>\n",
       "      <td>139</td>\n",
       "    </tr>\n",
       "    <tr>\n",
       "      <th>2</th>\n",
       "      <td>0</td>\n",
       "      <td>0</td>\n",
       "      <td>2</td>\n",
       "      <td>0</td>\n",
       "      <td>0</td>\n",
       "      <td>0</td>\n",
       "      <td>0</td>\n",
       "    </tr>\n",
       "    <tr>\n",
       "      <th>3</th>\n",
       "      <td>0</td>\n",
       "      <td>0</td>\n",
       "      <td>0</td>\n",
       "      <td>775</td>\n",
       "      <td>0</td>\n",
       "      <td>0</td>\n",
       "      <td>26</td>\n",
       "    </tr>\n",
       "    <tr>\n",
       "      <th>4</th>\n",
       "      <td>0</td>\n",
       "      <td>0</td>\n",
       "      <td>0</td>\n",
       "      <td>0</td>\n",
       "      <td>3</td>\n",
       "      <td>0</td>\n",
       "      <td>0</td>\n",
       "    </tr>\n",
       "    <tr>\n",
       "      <th>5</th>\n",
       "      <td>1</td>\n",
       "      <td>0</td>\n",
       "      <td>0</td>\n",
       "      <td>0</td>\n",
       "      <td>0</td>\n",
       "      <td>421</td>\n",
       "      <td>31</td>\n",
       "    </tr>\n",
       "    <tr>\n",
       "      <th>6</th>\n",
       "      <td>0</td>\n",
       "      <td>0</td>\n",
       "      <td>0</td>\n",
       "      <td>2</td>\n",
       "      <td>0</td>\n",
       "      <td>0</td>\n",
       "      <td>1</td>\n",
       "    </tr>\n",
       "  </tbody>\n",
       "</table>\n",
       "</div>"
      ],
      "text/plain": [
       "pred      0      1  2    3  4    5    7\n",
       "real                                   \n",
       "0     66488      0  0    0  0    0  298\n",
       "1         3  26405  0    0  0    0  139\n",
       "2         0      0  2    0  0    0    0\n",
       "3         0      0  0  775  0    0   26\n",
       "4         0      0  0    0  3    0    0\n",
       "5         1      0  0    0  0  421   31\n",
       "6         0      0  0    2  0    0    1"
      ]
     },
     "execution_count": 45,
     "metadata": {},
     "output_type": "execute_result"
    }
   ],
   "source": [
    "preds_numpy = preds.numpy()\n",
    "preds_numpy[np.where(np.max(probas, axis=1) < 0.9)] = 7\n",
    "print(np.sum(preds_numpy==7))\n",
    "ct = pd.crosstab(true.numpy(), preds_numpy, rownames=['real'], colnames=['pred'])\n",
    "ct"
   ]
  },
  {
   "cell_type": "markdown",
   "metadata": {},
   "source": [
    "## Test데이터 추론"
   ]
  },
  {
   "cell_type": "code",
   "execution_count": 46,
   "metadata": {},
   "outputs": [],
   "source": [
    "text_test = test['full_log'].str.replace(r'[0-9]', '<num>')\n",
    "\n",
    "x_test = tokenizer.texts_to_sequences(text_test)\n",
    "\n",
    "x_test_vector = tf.keras.preprocessing.sequence.pad_sequences(\n",
    "   x_test , maxlen=max_length, padding='post'\n",
    ")"
   ]
  },
  {
   "cell_type": "code",
   "execution_count": 47,
   "metadata": {},
   "outputs": [],
   "source": [
    "test_dataset = tf.data.Dataset.from_tensor_slices((x_test_vector))\n",
    "test_dataset = test_dataset.batch(256)\n",
    "test_dataset = test_dataset.prefetch(buffer_size=tf.data.experimental.AUTOTUNE)"
   ]
  },
  {
   "cell_type": "code",
   "execution_count": 48,
   "metadata": {},
   "outputs": [
    {
     "name": "stderr",
     "output_type": "stream",
     "text": [
      "100%|██████████| 5543/5543 [07:24<00:00, 12.48it/s]\n"
     ]
    }
   ],
   "source": [
    "preds = None\n",
    "for seq in tqdm(test_dataset):\n",
    "    if preds is None:\n",
    "        preds, probas, _ = predict(seq)\n",
    "    else:\n",
    "        pred, proba, _ = predict(seq)\n",
    "        preds = tf.concat([preds, pred], axis=-1)\n",
    "        probas = tf.concat([probas, proba], axis=0)"
   ]
  },
  {
   "cell_type": "markdown",
   "metadata": {},
   "source": [
    "## level 7 검출\n",
    "\n",
    "최대 예측률이 0.9 이하인 데이터를 level 7로 분류"
   ]
  },
  {
   "cell_type": "code",
   "execution_count": 49,
   "metadata": {},
   "outputs": [
    {
     "data": {
      "text/plain": [
       "7657"
      ]
     },
     "execution_count": 49,
     "metadata": {},
     "output_type": "execute_result"
    }
   ],
   "source": [
    "preds_numpy = preds.numpy()\n",
    "preds_numpy[np.where(np.max(probas, axis=1) < 0.9)] = 7\n",
    "np.sum(preds_numpy==7)"
   ]
  },
  {
   "cell_type": "markdown",
   "metadata": {},
   "source": [
    "## 제출"
   ]
  },
  {
   "cell_type": "code",
   "execution_count": 50,
   "metadata": {},
   "outputs": [],
   "source": [
    "submission['level'] = preds_numpy"
   ]
  },
  {
   "cell_type": "code",
   "execution_count": 51,
   "metadata": {},
   "outputs": [],
   "source": [
    "submission.to_csv('baseline.csv', index=False)"
   ]
  }
 ],
 "metadata": {
  "accelerator": "GPU",
  "colab": {
   "authorship_tag": "ABX9TyMofe2CZySYBhNSc+GFmSJE",
   "collapsed_sections": [],
   "mount_file_id": "1owPuNJSzNEjXvyQUAnvu6pkZ2Y9XmmAF",
   "name": "Baseline_transformer_encoder.ipynb",
   "provenance": []
  },
  "kernelspec": {
   "display_name": "bdg",
   "language": "python",
   "name": "bdg_env"
  },
  "language_info": {
   "codemirror_mode": {
    "name": "ipython",
    "version": 3
   },
   "file_extension": ".py",
   "mimetype": "text/x-python",
   "name": "python",
   "nbconvert_exporter": "python",
   "pygments_lexer": "ipython3",
   "version": "3.8.5"
  }
 },
 "nbformat": 4,
 "nbformat_minor": 4
}
